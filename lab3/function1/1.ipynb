{
 "cells": [
  {
   "cell_type": "code",
   "execution_count": null,
   "metadata": {},
   "outputs": [
    {
     "name": "stdout",
     "output_type": "stream",
     "text": [
      "2834.9523099999997\n"
     ]
    }
   ],
   "source": [
    "# 1. Перевод граммов в унции\n",
    "def grams_to_ounces(grams):\n",
    "    return grams * 28.3495231\n",
    "print(grams_to_ounces(100)) # Пример\n",
    "\n"
   ]
  },
  {
   "cell_type": "code",
   "execution_count": null,
   "metadata": {},
   "outputs": [
    {
     "name": "stdout",
     "output_type": "stream",
     "text": [
      "37.77777777777778\n"
     ]
    }
   ],
   "source": [
    "# 2. Перевод температуры из Фаренгейта в Цельсий \n",
    "def fahrenheit_to_celsius(fahrenheit):\n",
    "    return (5 / 9) * (fahrenheit - 32)\n",
    "\n",
    "print(fahrenheit_to_celsius(100))  # Пример "
   ]
  },
  {
   "cell_type": "code",
   "execution_count": null,
   "metadata": {},
   "outputs": [
    {
     "name": "stdout",
     "output_type": "stream",
     "text": [
      "(23, 12)\n"
     ]
    }
   ],
   "source": [
    "# 3. Задача про кур и кроликов\n",
    "def solve(numheads, numlegs):\n",
    "    # Используем систему уравнений:\n",
    "    # x + y = numheads (где x - количество кур, y - кроликов)\n",
    "    # 2x + 4y = numlegs (ноги у кур по 2, у кроликов по 4)\n",
    "    for chickens in range(numheads + 1):\n",
    "        rabbits = numheads - chickens\n",
    "        if 2 * chickens + 4 * rabbits == numlegs:\n",
    "            return chickens, rabbits\n",
    "    return None\n",
    "\n",
    "print(solve(35, 94))  # Пример \n",
    "\n"
   ]
  },
  {
   "cell_type": "code",
   "execution_count": null,
   "metadata": {},
   "outputs": [],
   "source": [
    "# 4. Фильтрация простых чисел\n",
    "def is_prime(n):\n",
    "    # Проверка, является ли число простым\n",
    "    if n < 2:\n",
    "        return False\n",
    "    for i in range(2, int(n ** 0.5) + 1):\n",
    "        if n % i == 0:\n",
    "            return False\n",
    "    return True\n",
    "\n",
    "def filter_prime(numbers):\n",
    "    # Оставляем только простые числа\n",
    "    return [n for n in numbers if is_prime(n)]\n",
    "\n",
    "print(filter_prime([10, 3, 7, 8, 11]))  # Пример \n"
   ]
  },
  {
   "cell_type": "code",
   "execution_count": null,
   "metadata": {},
   "outputs": [],
   "source": [
    "# 5. Перестановки строки\n",
    "from itertools import permutations\n",
    "\n",
    "def string_permutations(s):\n",
    "    # Получаем все перестановки строки\n",
    "    return [''.join(p) for p in permutations(s)]\n",
    "\n",
    "print(string_permutations(\"abc\"))  # Пример \n"
   ]
  },
  {
   "cell_type": "code",
   "execution_count": null,
   "metadata": {},
   "outputs": [],
   "source": [
    "# 6. Перестановка слов в строке\n",
    "def reverse_words(sentence):\n",
    "    # Разделяем строку, переворачиваем порядок и собираем обратно\n",
    "    return ' '.join(sentence.split()[::-1])\n",
    "\n",
    "print(reverse_words(\"We are ready\"))  # Пример \n"
   ]
  },
  {
   "cell_type": "code",
   "execution_count": null,
   "metadata": {},
   "outputs": [],
   "source": [
    "# 7. Проверка наличия 3 рядом с 3\n",
    "def has_33(nums):\n",
    "    # Проверяем, есть ли два подряд идущих 3\n",
    "    for i in range(len(nums) - 1):\n",
    "        if nums[i] == 3 and nums[i + 1] == 3:\n",
    "            return True\n",
    "    return False\n",
    "\n",
    "print(has_33([1, 3, 3]))  # Пример\n"
   ]
  },
  {
   "cell_type": "code",
   "execution_count": null,
   "metadata": {},
   "outputs": [],
   "source": [
    "# 8. Проверка наличия \"007\" в порядке\n",
    "def spy_game(nums):\n",
    "    # Проверяем, встречаются ли 0, 0, 7 в таком порядке\n",
    "    code = [0, 0, 7]\n",
    "    for num in nums:\n",
    "        if num == code[0]:\n",
    "            code.pop(0)\n",
    "        if not code:\n",
    "            return True\n",
    "    return False\n",
    "\n",
    "print(spy_game([1, 2, 4, 0, 0, 7, 5]))  # Пример \n"
   ]
  },
  {
   "cell_type": "code",
   "execution_count": null,
   "metadata": {},
   "outputs": [],
   "source": [
    "# 9. Объем сферы\n",
    "import math\n",
    "\n",
    "def sphere_volume(radius):\n",
    "    # Формула объема сферы V = 4/3 * π * r^3\n",
    "    return (4/3) * math.pi * radius**3\n",
    "\n",
    "print(sphere_volume(5))  # Пример\n"
   ]
  },
  {
   "cell_type": "code",
   "execution_count": null,
   "metadata": {},
   "outputs": [],
   "source": [
    "# 10. Уникальные элементы списка\n",
    "def unique_list(lst):\n",
    "    # Создаем новый список без дубликатов\n",
    "    unique = []\n",
    "    for item in lst:\n",
    "        if item not in unique:\n",
    "            unique.append(item)\n",
    "    return unique\n",
    "\n",
    "print(unique_list([1, 2, 2, 3, 4, 4, 5]))  # Пример\n"
   ]
  },
  {
   "cell_type": "code",
   "execution_count": null,
   "metadata": {},
   "outputs": [],
   "source": [
    "# 11. Проверка на палиндром\n",
    "def is_palindrome(s):\n",
    "    # Убираем пробелы и приводим к нижнему регистру\n",
    "    s = s.replace(\" \", \"\").lower()\n",
    "    return s == s[::-1]\n",
    "\n",
    "print(is_palindrome(\"мадам\"))  # Пример \n"
   ]
  },
  {
   "cell_type": "code",
   "execution_count": null,
   "metadata": {},
   "outputs": [],
   "source": [
    "# 12. Гистограмма\n",
    "def histogram(numbers):\n",
    "    # Выводим звездочки по количеству чисел\n",
    "    for num in numbers:\n",
    "        print('*' * num)\n",
    "\n",
    "histogram([4, 9, 7])  # Пример \n"
   ]
  },
  {
   "cell_type": "code",
   "execution_count": null,
   "metadata": {},
   "outputs": [],
   "source": [
    "# 13. Игра \"Угадай число\"\n",
    "import random\n",
    "\n",
    "def guess_the_number():\n",
    "    # Загадка числа\n",
    "    number = random.randint(1, 20)\n",
    "    print(\"Привет! Как тебя зовут?\")\n",
    "    name = input()\n",
    "    print(f\"Ну, {name}, я загадал число от 1 до 20.\")\n",
    "    \n",
    "    attempts = 0\n",
    "    while True:\n",
    "        print(\"Попробуй угадать.\")\n",
    "        guess = int(input())\n",
    "        attempts += 1\n",
    "\n",
    "        if guess < number:\n",
    "            print(\"Твое число слишком маленькое.\")\n",
    "        elif guess > number:\n",
    "            print(\"Твое число слишком большое.\")\n",
    "        else:\n",
    "            print(f\"Отлично, {name}! Ты угадал число за {attempts} попыток!\")\n",
    "            break\n",
    "\n",
    "# guess_the_number()  # Раскомментируйте для запуска игры\n"
   ]
  },
  {
   "cell_type": "code",
   "execution_count": null,
   "metadata": {},
   "outputs": [],
   "source": [
    "# 14. Импорт функций в отдельный файл\n",
    "from my_functions import grams_to_ounces, is_prime, histogram\n",
    "\n",
    "print(grams_to_ounces(50))  # Используем импортированные функции\n",
    "print(is_prime(11))\n",
    "histogram([3, 6, 2])\n"
   ]
  }
 ],
 "metadata": {
  "kernelspec": {
   "display_name": "Python 3",
   "language": "python",
   "name": "python3"
  },
  "language_info": {
   "codemirror_mode": {
    "name": "ipython",
    "version": 3
   },
   "file_extension": ".py",
   "mimetype": "text/x-python",
   "name": "python",
   "nbconvert_exporter": "python",
   "pygments_lexer": "ipython3",
   "version": "3.13.1"
  }
 },
 "nbformat": 4,
 "nbformat_minor": 2
}
