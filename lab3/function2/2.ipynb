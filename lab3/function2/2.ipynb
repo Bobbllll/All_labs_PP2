{
 "cells": [
  {
   "cell_type": "code",
   "execution_count": null,
   "metadata": {},
   "outputs": [],
   "source": [
    "movies = [\n",
    "    {\"name\": \"Usual Suspects\", \"imdb\": 7.0, \"category\": \"Thriller\"},\n",
    "    {\"name\": \"Hitman\", \"imdb\": 6.3, \"category\": \"Action\"},\n",
    "    {\"name\": \"Dark Knight\", \"imdb\": 9.0, \"category\": \"Adventure\"},\n",
    "    {\"name\": \"The Help\", \"imdb\": 8.0, \"category\": \"Drama\"},\n",
    "    {\"name\": \"The Choice\", \"imdb\": 6.2, \"category\": \"Romance\"},\n",
    "    {\"name\": \"Colonia\", \"imdb\": 7.4, \"category\": \"Romance\"},\n",
    "    {\"name\": \"Love\", \"imdb\": 6.0, \"category\": \"Romance\"},\n",
    "    {\"name\": \"Bride Wars\", \"imdb\": 5.4, \"category\": \"Romance\"},\n",
    "    {\"name\": \"AlphaJet\", \"imdb\": 3.2, \"category\": \"War\"},\n",
    "    {\"name\": \"Ringing Crime\", \"imdb\": 4.0, \"category\": \"Crime\"},\n",
    "    {\"name\": \"Joking muck\", \"imdb\": 7.2, \"category\": \"Comedy\"},\n",
    "    {\"name\": \"What is the name\", \"imdb\": 9.2, \"category\": \"Suspense\"},\n",
    "    {\"name\": \"Detective\", \"imdb\": 7.0, \"category\": \"Suspense\"},\n",
    "    {\"name\": \"Exam\", \"imdb\": 4.2, \"category\": \"Thriller\"},\n",
    "    {\"name\": \"We Two\", \"imdb\": 7.2, \"category\": \"Romance\"}\n",
    "]\n",
    "\n",
    "# Функция проверяет, имеет ли фильм рейтинг IMDB выше 5.5\n",
    "def is_high_rated(movie):\n",
    "    return movie[\"imdb\"] > 5.5\n",
    "\n",
    "# Функция возвращает список фильмов с рейтингом выше 5.5\n",
    "def high_rated_movies(movies):\n",
    "    return [movie for movie in movies if is_high_rated(movie)]\n",
    "\n",
    "# Функция возвращает список фильмов, относящихся к определенной категории\n",
    "def movies_by_category(movies, category):\n",
    "    return [movie for movie in movies if movie[\"category\"] == category]\n",
    "\n",
    "# Функция вычисляет средний рейтинг IMDB для списка фильмов\n",
    "def average_imdb(movies):\n",
    "    if not movies:\n",
    "        return 0\n",
    "    return sum(movie[\"imdb\"] for movie in movies) / len(movies)\n",
    "\n",
    "# Функция вычисляет средний рейтинг IMDB для заданной категории\n",
    "def average_imdb_by_category(movies, category):\n",
    "    category_movies = movies_by_category(movies, category)\n",
    "    return average_imdb(category_movies)\n"
   ]
  }
 ],
 "metadata": {
  "language_info": {
   "name": "python"
  }
 },
 "nbformat": 4,
 "nbformat_minor": 2
}
